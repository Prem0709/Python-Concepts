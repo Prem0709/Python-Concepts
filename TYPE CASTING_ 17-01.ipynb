{
 "cells": [
  {
   "cell_type": "code",
   "execution_count": null,
   "metadata": {
    "id": "aqeJrPCpDSyk"
   },
   "outputs": [],
   "source": [
    "#17th\n",
    "# TYPE CASTING"
   ]
  },
  {
   "cell_type": "code",
   "execution_count": 1,
   "metadata": {
    "colab": {
     "base_uri": "https://localhost:8080/"
    },
    "executionInfo": {
     "elapsed": 1459,
     "status": "ok",
     "timestamp": 1737121694830,
     "user": {
      "displayName": "Prem Pawar",
      "userId": "12256910497029262099"
     },
     "user_tz": -330
    },
    "id": "zHQ8YPbPgz9K",
    "outputId": "5f44c805-c5bb-4a3c-a19c-0844be990f0f"
   },
   "outputs": [
    {
     "data": {
      "text/plain": [
       "2"
      ]
     },
     "execution_count": 1,
     "metadata": {},
     "output_type": "execute_result"
    }
   ],
   "source": [
    "int(2.3)"
   ]
  },
  {
   "cell_type": "code",
   "execution_count": 2,
   "metadata": {
    "colab": {
     "base_uri": "https://localhost:8080/"
    },
    "executionInfo": {
     "elapsed": 10,
     "status": "ok",
     "timestamp": 1737121849359,
     "user": {
      "displayName": "Prem Pawar",
      "userId": "12256910497029262099"
     },
     "user_tz": -330
    },
    "id": "yiL6ztiIgz6z",
    "outputId": "364dedb8-f72e-4f7e-a476-2c7bffddfcd4"
   },
   "outputs": [
    {
     "data": {
      "text/plain": [
       "1"
      ]
     },
     "execution_count": 2,
     "metadata": {},
     "output_type": "execute_result"
    }
   ],
   "source": [
    "int(True\n",
    "    )"
   ]
  },
  {
   "cell_type": "code",
   "execution_count": 3,
   "metadata": {
    "colab": {
     "base_uri": "https://localhost:8080/",
     "height": 141
    },
    "executionInfo": {
     "elapsed": 701,
     "status": "error",
     "timestamp": 1737121864986,
     "user": {
      "displayName": "Prem Pawar",
      "userId": "12256910497029262099"
     },
     "user_tz": -330
    },
    "id": "U21P7XPcgz4p",
    "outputId": "b812efd9-00a8-4b83-953a-5a1245c3cc75"
   },
   "outputs": [
    {
     "ename": "TypeError",
     "evalue": "int() argument must be a string, a bytes-like object or a real number, not 'complex'",
     "output_type": "error",
     "traceback": [
      "\u001b[0;31m---------------------------------------------------------------------------\u001b[0m",
      "\u001b[0;31mTypeError\u001b[0m                                 Traceback (most recent call last)",
      "\u001b[0;32m<ipython-input-3-92955e8f77c0>\u001b[0m in \u001b[0;36m<cell line: 0>\u001b[0;34m()\u001b[0m\n\u001b[0;32m----> 1\u001b[0;31m \u001b[0mint\u001b[0m\u001b[0;34m(\u001b[0m\u001b[0;36m1\u001b[0m\u001b[0;34m+\u001b[0m\u001b[0;36m2j\u001b[0m\u001b[0;34m)\u001b[0m\u001b[0;34m\u001b[0m\u001b[0;34m\u001b[0m\u001b[0m\n\u001b[0m",
      "\u001b[0;31mTypeError\u001b[0m: int() argument must be a string, a bytes-like object or a real number, not 'complex'"
     ]
    }
   ],
   "source": [
    "int(1+2j)"
   ]
  },
  {
   "cell_type": "code",
   "execution_count": 4,
   "metadata": {
    "colab": {
     "base_uri": "https://localhost:8080/"
    },
    "executionInfo": {
     "elapsed": 463,
     "status": "ok",
     "timestamp": 1737121925827,
     "user": {
      "displayName": "Prem Pawar",
      "userId": "12256910497029262099"
     },
     "user_tz": -330
    },
    "id": "z0AouKzGgz2p",
    "outputId": "2ffcc460-31cf-4133-a979-e1819fbb2986"
   },
   "outputs": [
    {
     "data": {
      "text/plain": [
       "10"
      ]
     },
     "execution_count": 4,
     "metadata": {},
     "output_type": "execute_result"
    }
   ],
   "source": [
    "int(\"10\")"
   ]
  },
  {
   "cell_type": "code",
   "execution_count": 5,
   "metadata": {
    "colab": {
     "base_uri": "https://localhost:8080/"
    },
    "executionInfo": {
     "elapsed": 464,
     "status": "ok",
     "timestamp": 1737122010517,
     "user": {
      "displayName": "Prem Pawar",
      "userId": "12256910497029262099"
     },
     "user_tz": -330
    },
    "id": "O7GmbhZqgz0r",
    "outputId": "f534053c-49f5-4bf6-9e7a-2e7637b09068"
   },
   "outputs": [
    {
     "data": {
      "text/plain": [
       "100.0"
      ]
     },
     "execution_count": 5,
     "metadata": {},
     "output_type": "execute_result"
    }
   ],
   "source": [
    "float(100)"
   ]
  },
  {
   "cell_type": "code",
   "execution_count": 6,
   "metadata": {
    "colab": {
     "base_uri": "https://localhost:8080/"
    },
    "executionInfo": {
     "elapsed": 7,
     "status": "ok",
     "timestamp": 1737122025604,
     "user": {
      "displayName": "Prem Pawar",
      "userId": "12256910497029262099"
     },
     "user_tz": -330
    },
    "id": "kF5kpm6cgzyv",
    "outputId": "0882a0a8-eab6-47fa-ffbd-85ab07c62ca2"
   },
   "outputs": [
    {
     "data": {
      "text/plain": [
       "0.0"
      ]
     },
     "execution_count": 6,
     "metadata": {},
     "output_type": "execute_result"
    }
   ],
   "source": [
    "float(False)"
   ]
  },
  {
   "cell_type": "code",
   "execution_count": 7,
   "metadata": {
    "colab": {
     "base_uri": "https://localhost:8080/",
     "height": 141
    },
    "executionInfo": {
     "elapsed": 24,
     "status": "error",
     "timestamp": 1737122047616,
     "user": {
      "displayName": "Prem Pawar",
      "userId": "12256910497029262099"
     },
     "user_tz": -330
    },
    "id": "cdaoiICvgzwn",
    "outputId": "95c71e7a-51d8-4f5e-cfab-20e8d868b89c"
   },
   "outputs": [
    {
     "ename": "TypeError",
     "evalue": "float() argument must be a string or a real number, not 'complex'",
     "output_type": "error",
     "traceback": [
      "\u001b[0;31m---------------------------------------------------------------------------\u001b[0m",
      "\u001b[0;31mTypeError\u001b[0m                                 Traceback (most recent call last)",
      "\u001b[0;32m<ipython-input-7-351733898702>\u001b[0m in \u001b[0;36m<cell line: 0>\u001b[0;34m()\u001b[0m\n\u001b[0;32m----> 1\u001b[0;31m \u001b[0mfloat\u001b[0m\u001b[0;34m(\u001b[0m\u001b[0;36m1\u001b[0m\u001b[0;34m+\u001b[0m\u001b[0;36m2j\u001b[0m\u001b[0;34m)\u001b[0m\u001b[0;34m\u001b[0m\u001b[0;34m\u001b[0m\u001b[0m\n\u001b[0m",
      "\u001b[0;31mTypeError\u001b[0m: float() argument must be a string or a real number, not 'complex'"
     ]
    }
   ],
   "source": [
    "float(1+2j)"
   ]
  },
  {
   "cell_type": "code",
   "execution_count": 8,
   "metadata": {
    "colab": {
     "base_uri": "https://localhost:8080/"
    },
    "executionInfo": {
     "elapsed": 462,
     "status": "ok",
     "timestamp": 1737122076268,
     "user": {
      "displayName": "Prem Pawar",
      "userId": "12256910497029262099"
     },
     "user_tz": -330
    },
    "id": "lU10MZUaivrT",
    "outputId": "98d4476e-350c-4ad7-dfcc-3a090d6e325f"
   },
   "outputs": [
    {
     "data": {
      "text/plain": [
       "10.0"
      ]
     },
     "execution_count": 8,
     "metadata": {},
     "output_type": "execute_result"
    }
   ],
   "source": [
    "float(\"10\")"
   ]
  },
  {
   "cell_type": "code",
   "execution_count": 9,
   "metadata": {
    "colab": {
     "base_uri": "https://localhost:8080/",
     "height": 141
    },
    "executionInfo": {
     "elapsed": 19,
     "status": "error",
     "timestamp": 1737122136504,
     "user": {
      "displayName": "Prem Pawar",
      "userId": "12256910497029262099"
     },
     "user_tz": -330
    },
    "id": "m7f3istAivn9",
    "outputId": "294b70d5-2168-464b-be3b-5bd34d28ad46"
   },
   "outputs": [
    {
     "ename": "TypeError",
     "evalue": "'float' object cannot be interpreted as an integer",
     "output_type": "error",
     "traceback": [
      "\u001b[0;31m---------------------------------------------------------------------------\u001b[0m",
      "\u001b[0;31mTypeError\u001b[0m                                 Traceback (most recent call last)",
      "\u001b[0;32m<ipython-input-9-6099c01d9297>\u001b[0m in \u001b[0;36m<cell line: 0>\u001b[0;34m()\u001b[0m\n\u001b[0;32m----> 1\u001b[0;31m \u001b[0mint\u001b[0m\u001b[0;34m(\u001b[0m\u001b[0;36m10.3\u001b[0m\u001b[0;34m,\u001b[0m \u001b[0;36m48.4\u001b[0m\u001b[0;34m)\u001b[0m\u001b[0;34m\u001b[0m\u001b[0;34m\u001b[0m\u001b[0m\n\u001b[0m",
      "\u001b[0;31mTypeError\u001b[0m: 'float' object cannot be interpreted as an integer"
     ]
    }
   ],
   "source": [
    "int(10.3, 48.4)"
   ]
  },
  {
   "cell_type": "code",
   "execution_count": 10,
   "metadata": {
    "colab": {
     "base_uri": "https://localhost:8080/",
     "height": 141
    },
    "executionInfo": {
     "elapsed": 18,
     "status": "error",
     "timestamp": 1737122211349,
     "user": {
      "displayName": "Prem Pawar",
      "userId": "12256910497029262099"
     },
     "user_tz": -330
    },
    "id": "e6aXW5Iaivl3",
    "outputId": "afedcc7d-163f-4562-ba92-4266c5f3e26a"
   },
   "outputs": [
    {
     "ename": "TypeError",
     "evalue": "float expected at most 1 argument, got 2",
     "output_type": "error",
     "traceback": [
      "\u001b[0;31m---------------------------------------------------------------------------\u001b[0m",
      "\u001b[0;31mTypeError\u001b[0m                                 Traceback (most recent call last)",
      "\u001b[0;32m<ipython-input-10-0b0289b3a11e>\u001b[0m in \u001b[0;36m<cell line: 0>\u001b[0;34m()\u001b[0m\n\u001b[0;32m----> 1\u001b[0;31m \u001b[0mfloat\u001b[0m \u001b[0;34m(\u001b[0m\u001b[0;36m10.3\u001b[0m\u001b[0;34m,\u001b[0m \u001b[0;36m48.4\u001b[0m\u001b[0;34m)\u001b[0m\u001b[0;34m\u001b[0m\u001b[0;34m\u001b[0m\u001b[0m\n\u001b[0m",
      "\u001b[0;31mTypeError\u001b[0m: float expected at most 1 argument, got 2"
     ]
    }
   ],
   "source": [
    "float (10.3, 48.4)"
   ]
  },
  {
   "cell_type": "code",
   "execution_count": 11,
   "metadata": {
    "colab": {
     "base_uri": "https://localhost:8080/",
     "height": 141
    },
    "executionInfo": {
     "elapsed": 17,
     "status": "error",
     "timestamp": 1737122230276,
     "user": {
      "displayName": "Prem Pawar",
      "userId": "12256910497029262099"
     },
     "user_tz": -330
    },
    "id": "xDxz6ktOivkF",
    "outputId": "f1ca414f-fb4b-4755-a2aa-852642822508"
   },
   "outputs": [
    {
     "ename": "TypeError",
     "evalue": "int() takes at most 2 arguments (3 given)",
     "output_type": "error",
     "traceback": [
      "\u001b[0;31m---------------------------------------------------------------------------\u001b[0m",
      "\u001b[0;31mTypeError\u001b[0m                                 Traceback (most recent call last)",
      "\u001b[0;32m<ipython-input-11-705a0a1f7ea9>\u001b[0m in \u001b[0;36m<cell line: 0>\u001b[0;34m()\u001b[0m\n\u001b[0;32m----> 1\u001b[0;31m \u001b[0mint\u001b[0m\u001b[0;34m(\u001b[0m\u001b[0;36m12\u001b[0m\u001b[0;34m,\u001b[0m\u001b[0;36m32\u001b[0m\u001b[0;34m,\u001b[0m\u001b[0;36m34\u001b[0m\u001b[0;34m)\u001b[0m\u001b[0;34m\u001b[0m\u001b[0;34m\u001b[0m\u001b[0m\n\u001b[0m",
      "\u001b[0;31mTypeError\u001b[0m: int() takes at most 2 arguments (3 given)"
     ]
    }
   ],
   "source": [
    "int(12,32,34)"
   ]
  },
  {
   "cell_type": "code",
   "execution_count": 13,
   "metadata": {
    "colab": {
     "base_uri": "https://localhost:8080/",
     "height": 141
    },
    "executionInfo": {
     "elapsed": 453,
     "status": "error",
     "timestamp": 1737122255390,
     "user": {
      "displayName": "Prem Pawar",
      "userId": "12256910497029262099"
     },
     "user_tz": -330
    },
    "id": "op_Geyncivh_",
    "outputId": "385e37f8-1504-4fb4-8d17-ce8d93241b08"
   },
   "outputs": [
    {
     "ename": "TypeError",
     "evalue": "float expected at most 1 argument, got 3",
     "output_type": "error",
     "traceback": [
      "\u001b[0;31m---------------------------------------------------------------------------\u001b[0m",
      "\u001b[0;31mTypeError\u001b[0m                                 Traceback (most recent call last)",
      "\u001b[0;32m<ipython-input-13-b3042f5ccd61>\u001b[0m in \u001b[0;36m<cell line: 0>\u001b[0;34m()\u001b[0m\n\u001b[0;32m----> 1\u001b[0;31m \u001b[0mfloat\u001b[0m \u001b[0;34m(\u001b[0m\u001b[0;36m12\u001b[0m\u001b[0;34m,\u001b[0m\u001b[0;36m32\u001b[0m\u001b[0;34m,\u001b[0m\u001b[0;36m34\u001b[0m\u001b[0;34m)\u001b[0m\u001b[0;34m\u001b[0m\u001b[0;34m\u001b[0m\u001b[0m\n\u001b[0m",
      "\u001b[0;31mTypeError\u001b[0m: float expected at most 1 argument, got 3"
     ]
    }
   ],
   "source": [
    "float (12,32,34)\n"
   ]
  },
  {
   "cell_type": "code",
   "execution_count": null,
   "metadata": {
    "id": "hRkd9QwSivfr"
   },
   "outputs": [],
   "source": [
    "#  float expected at most 1 argument, got 3"
   ]
  },
  {
   "cell_type": "code",
   "execution_count": 14,
   "metadata": {
    "colab": {
     "base_uri": "https://localhost:8080/"
    },
    "executionInfo": {
     "elapsed": 11,
     "status": "ok",
     "timestamp": 1737122321606,
     "user": {
      "displayName": "Prem Pawar",
      "userId": "12256910497029262099"
     },
     "user_tz": -330
    },
    "id": "uUtGq_kzivdt",
    "outputId": "6a0dad86-ea59-45d1-df40-419710f8c983"
   },
   "outputs": [
    {
     "data": {
      "text/plain": [
       "(1+0j)"
      ]
     },
     "execution_count": 14,
     "metadata": {},
     "output_type": "execute_result"
    }
   ],
   "source": [
    "complex(1)"
   ]
  },
  {
   "cell_type": "code",
   "execution_count": 34,
   "metadata": {
    "executionInfo": {
     "elapsed": 533,
     "status": "ok",
     "timestamp": 1737123097717,
     "user": {
      "displayName": "Prem Pawar",
      "userId": "12256910497029262099"
     },
     "user_tz": -330
    },
    "id": "7y1A_FWvivbo"
   },
   "outputs": [],
   "source": [
    "# (1+0j) 1 real , 0 =imaginary part , j =Squar root of -1"
   ]
  },
  {
   "cell_type": "code",
   "execution_count": 15,
   "metadata": {
    "colab": {
     "base_uri": "https://localhost:8080/"
    },
    "executionInfo": {
     "elapsed": 9,
     "status": "ok",
     "timestamp": 1737122391546,
     "user": {
      "displayName": "Prem Pawar",
      "userId": "12256910497029262099"
     },
     "user_tz": -330
    },
    "id": "Css5aXBQivZd",
    "outputId": "76bde1ea-bcc2-464a-bfa7-5be65684f0d2"
   },
   "outputs": [
    {
     "data": {
      "text/plain": [
       "(1+3j)"
      ]
     },
     "execution_count": 15,
     "metadata": {},
     "output_type": "execute_result"
    }
   ],
   "source": [
    "complex(1,3)"
   ]
  },
  {
   "cell_type": "code",
   "execution_count": 16,
   "metadata": {
    "colab": {
     "base_uri": "https://localhost:8080/",
     "height": 141
    },
    "executionInfo": {
     "elapsed": 614,
     "status": "error",
     "timestamp": 1737122406193,
     "user": {
      "displayName": "Prem Pawar",
      "userId": "12256910497029262099"
     },
     "user_tz": -330
    },
    "id": "y1ICU6B8ivXU",
    "outputId": "1c4b4273-20da-4fc0-85f7-a4c29fcd13d6"
   },
   "outputs": [
    {
     "ename": "TypeError",
     "evalue": "complex() takes at most 2 arguments (3 given)",
     "output_type": "error",
     "traceback": [
      "\u001b[0;31m---------------------------------------------------------------------------\u001b[0m",
      "\u001b[0;31mTypeError\u001b[0m                                 Traceback (most recent call last)",
      "\u001b[0;32m<ipython-input-16-d089be36d1f9>\u001b[0m in \u001b[0;36m<cell line: 0>\u001b[0;34m()\u001b[0m\n\u001b[0;32m----> 1\u001b[0;31m \u001b[0mcomplex\u001b[0m\u001b[0;34m(\u001b[0m\u001b[0;36m1\u001b[0m\u001b[0;34m,\u001b[0m\u001b[0;36m2\u001b[0m\u001b[0;34m,\u001b[0m\u001b[0;36m3\u001b[0m\u001b[0;34m)\u001b[0m\u001b[0;34m\u001b[0m\u001b[0;34m\u001b[0m\u001b[0m\n\u001b[0m",
      "\u001b[0;31mTypeError\u001b[0m: complex() takes at most 2 arguments (3 given)"
     ]
    }
   ],
   "source": [
    "complex(1,2,3)\n"
   ]
  },
  {
   "cell_type": "code",
   "execution_count": 17,
   "metadata": {
    "colab": {
     "base_uri": "https://localhost:8080/"
    },
    "executionInfo": {
     "elapsed": 9,
     "status": "ok",
     "timestamp": 1737122441262,
     "user": {
      "displayName": "Prem Pawar",
      "userId": "12256910497029262099"
     },
     "user_tz": -330
    },
    "id": "plUMYAgLivVS",
    "outputId": "9185365f-be65-4385-cbd4-5a3b81c5f4b1"
   },
   "outputs": [
    {
     "data": {
      "text/plain": [
       "(10.2+23j)"
      ]
     },
     "execution_count": 17,
     "metadata": {},
     "output_type": "execute_result"
    }
   ],
   "source": [
    "complex(10.2,23)"
   ]
  },
  {
   "cell_type": "code",
   "execution_count": 18,
   "metadata": {
    "colab": {
     "base_uri": "https://localhost:8080/",
     "height": 141
    },
    "executionInfo": {
     "elapsed": 19,
     "status": "error",
     "timestamp": 1737122563509,
     "user": {
      "displayName": "Prem Pawar",
      "userId": "12256910497029262099"
     },
     "user_tz": -330
    },
    "id": "-L096wq2ivTL",
    "outputId": "0ede6dec-d7b3-4a6a-dfa1-604325fefbd2"
   },
   "outputs": [
    {
     "ename": "NameError",
     "evalue": "name 'true' is not defined",
     "output_type": "error",
     "traceback": [
      "\u001b[0;31m---------------------------------------------------------------------------\u001b[0m",
      "\u001b[0;31mNameError\u001b[0m                                 Traceback (most recent call last)",
      "\u001b[0;32m<ipython-input-18-c0a949a29430>\u001b[0m in \u001b[0;36m<cell line: 0>\u001b[0;34m()\u001b[0m\n\u001b[0;32m----> 1\u001b[0;31m \u001b[0mcomplex\u001b[0m\u001b[0;34m(\u001b[0m\u001b[0mtrue\u001b[0m\u001b[0;34m,\u001b[0m \u001b[0mfalse\u001b[0m\u001b[0;34m)\u001b[0m\u001b[0;34m\u001b[0m\u001b[0;34m\u001b[0m\u001b[0m\n\u001b[0m",
      "\u001b[0;31mNameError\u001b[0m: name 'true' is not defined"
     ]
    }
   ],
   "source": [
    "complex(true, false)"
   ]
  },
  {
   "cell_type": "code",
   "execution_count": 19,
   "metadata": {
    "colab": {
     "base_uri": "https://localhost:8080/",
     "height": 141
    },
    "executionInfo": {
     "elapsed": 1018,
     "status": "error",
     "timestamp": 1737122599738,
     "user": {
      "displayName": "Prem Pawar",
      "userId": "12256910497029262099"
     },
     "user_tz": -330
    },
    "id": "6xACzl5SivRb",
    "outputId": "c4304e29-17fb-4a75-f35a-54e7bc90744f"
   },
   "outputs": [
    {
     "ename": "TypeError",
     "evalue": "complex() can't take second arg if first is a string",
     "output_type": "error",
     "traceback": [
      "\u001b[0;31m---------------------------------------------------------------------------\u001b[0m",
      "\u001b[0;31mTypeError\u001b[0m                                 Traceback (most recent call last)",
      "\u001b[0;32m<ipython-input-19-21c15ae35839>\u001b[0m in \u001b[0;36m<cell line: 0>\u001b[0;34m()\u001b[0m\n\u001b[0;32m----> 1\u001b[0;31m \u001b[0mcomplex\u001b[0m\u001b[0;34m(\u001b[0m\u001b[0;34m\"true\"\u001b[0m\u001b[0;34m,\u001b[0m \u001b[0;34m\"false\"\u001b[0m\u001b[0;34m)\u001b[0m\u001b[0;34m\u001b[0m\u001b[0;34m\u001b[0m\u001b[0m\n\u001b[0m",
      "\u001b[0;31mTypeError\u001b[0m: complex() can't take second arg if first is a string"
     ]
    }
   ],
   "source": [
    "complex(\"true\", \"false\")"
   ]
  },
  {
   "cell_type": "code",
   "execution_count": 20,
   "metadata": {
    "colab": {
     "base_uri": "https://localhost:8080/"
    },
    "executionInfo": {
     "elapsed": 11,
     "status": "ok",
     "timestamp": 1737122642020,
     "user": {
      "displayName": "Prem Pawar",
      "userId": "12256910497029262099"
     },
     "user_tz": -330
    },
    "id": "Tjj3T23kivPu",
    "outputId": "83223858-abb8-4206-c7cc-40cd7c1d5aae"
   },
   "outputs": [
    {
     "data": {
      "text/plain": [
       "(1+0j)"
      ]
     },
     "execution_count": 20,
     "metadata": {},
     "output_type": "execute_result"
    }
   ],
   "source": [
    "complex(True , False)"
   ]
  },
  {
   "cell_type": "code",
   "execution_count": 21,
   "metadata": {
    "colab": {
     "base_uri": "https://localhost:8080/"
    },
    "executionInfo": {
     "elapsed": 8,
     "status": "ok",
     "timestamp": 1737122675193,
     "user": {
      "displayName": "Prem Pawar",
      "userId": "12256910497029262099"
     },
     "user_tz": -330
    },
    "id": "aRxVOYzuivNk",
    "outputId": "c4202f19-13b0-4858-ff01-6201a0274e80"
   },
   "outputs": [
    {
     "data": {
      "text/plain": [
       "1j"
      ]
     },
     "execution_count": 21,
     "metadata": {},
     "output_type": "execute_result"
    }
   ],
   "source": [
    "complex(False, True)"
   ]
  },
  {
   "cell_type": "code",
   "execution_count": 22,
   "metadata": {
    "colab": {
     "base_uri": "https://localhost:8080/"
    },
    "executionInfo": {
     "elapsed": 462,
     "status": "ok",
     "timestamp": 1737122711813,
     "user": {
      "displayName": "Prem Pawar",
      "userId": "12256910497029262099"
     },
     "user_tz": -330
    },
    "id": "hzBzueHmivLx",
    "outputId": "c294e610-e6fb-4a4c-bd9b-d0861ba9e91d"
   },
   "outputs": [
    {
     "data": {
      "text/plain": [
       "(10+0j)"
      ]
     },
     "execution_count": 22,
     "metadata": {},
     "output_type": "execute_result"
    }
   ],
   "source": [
    "complex(\"10\")"
   ]
  },
  {
   "cell_type": "code",
   "execution_count": 23,
   "metadata": {
    "colab": {
     "base_uri": "https://localhost:8080/",
     "height": 141
    },
    "executionInfo": {
     "elapsed": 439,
     "status": "error",
     "timestamp": 1737122726511,
     "user": {
      "displayName": "Prem Pawar",
      "userId": "12256910497029262099"
     },
     "user_tz": -330
    },
    "id": "hOOqGHFFivJ9",
    "outputId": "ff0c8826-51ec-4d69-d906-5d974e4ef0cb"
   },
   "outputs": [
    {
     "ename": "TypeError",
     "evalue": "complex() can't take second arg if first is a string",
     "output_type": "error",
     "traceback": [
      "\u001b[0;31m---------------------------------------------------------------------------\u001b[0m",
      "\u001b[0;31mTypeError\u001b[0m                                 Traceback (most recent call last)",
      "\u001b[0;32m<ipython-input-23-359e266b074a>\u001b[0m in \u001b[0;36m<cell line: 0>\u001b[0;34m()\u001b[0m\n\u001b[0;32m----> 1\u001b[0;31m \u001b[0mcomplex\u001b[0m\u001b[0;34m(\u001b[0m\u001b[0;34m\"10\"\u001b[0m\u001b[0;34m,\u001b[0m\u001b[0;34m'20'\u001b[0m\u001b[0;34m)\u001b[0m\u001b[0;34m\u001b[0m\u001b[0;34m\u001b[0m\u001b[0m\n\u001b[0m",
      "\u001b[0;31mTypeError\u001b[0m: complex() can't take second arg if first is a string"
     ]
    }
   ],
   "source": [
    "complex(\"10\",'20')"
   ]
  },
  {
   "cell_type": "code",
   "execution_count": 27,
   "metadata": {
    "colab": {
     "base_uri": "https://localhost:8080/",
     "height": 141
    },
    "executionInfo": {
     "elapsed": 448,
     "status": "error",
     "timestamp": 1737122877160,
     "user": {
      "displayName": "Prem Pawar",
      "userId": "12256910497029262099"
     },
     "user_tz": -330
    },
    "id": "iQ-eJJHxivIW",
    "outputId": "d780a19c-38f8-4003-9832-528c5a7e085e"
   },
   "outputs": [
    {
     "ename": "TypeError",
     "evalue": "complex() can't take second arg if first is a string",
     "output_type": "error",
     "traceback": [
      "\u001b[0;31m---------------------------------------------------------------------------\u001b[0m",
      "\u001b[0;31mTypeError\u001b[0m                                 Traceback (most recent call last)",
      "\u001b[0;32m<ipython-input-27-ed41b0790096>\u001b[0m in \u001b[0;36m<cell line: 0>\u001b[0;34m()\u001b[0m\n\u001b[0;32m----> 1\u001b[0;31m \u001b[0mcomplex\u001b[0m\u001b[0;34m(\u001b[0m\u001b[0;34m\"10\"\u001b[0m\u001b[0;34m,\u001b[0m\u001b[0;34m\"12\"\u001b[0m\u001b[0;34m)\u001b[0m\u001b[0;34m\u001b[0m\u001b[0;34m\u001b[0m\u001b[0m\n\u001b[0m",
      "\u001b[0;31mTypeError\u001b[0m: complex() can't take second arg if first is a string"
     ]
    }
   ],
   "source": [
    "complex(\"10\",\"12\")"
   ]
  },
  {
   "cell_type": "code",
   "execution_count": 32,
   "metadata": {
    "executionInfo": {
     "elapsed": 398,
     "status": "ok",
     "timestamp": 1737123039020,
     "user": {
      "displayName": "Prem Pawar",
      "userId": "12256910497029262099"
     },
     "user_tz": -330
    },
    "id": "DaJu8HvXivG6"
   },
   "outputs": [],
   "source": [
    "a=2\n",
    "b=3+99j"
   ]
  },
  {
   "cell_type": "code",
   "execution_count": 33,
   "metadata": {
    "colab": {
     "base_uri": "https://localhost:8080/"
    },
    "executionInfo": {
     "elapsed": 10,
     "status": "ok",
     "timestamp": 1737123040453,
     "user": {
      "displayName": "Prem Pawar",
      "userId": "12256910497029262099"
     },
     "user_tz": -330
    },
    "id": "4Sqz4jSUivEe",
    "outputId": "e5be2cb6-0e9a-44e9-9e39-85f245bd81ea"
   },
   "outputs": [
    {
     "name": "stdout",
     "output_type": "stream",
     "text": [
      "(5+99j)\n"
     ]
    }
   ],
   "source": [
    "print(a+b)"
   ]
  },
  {
   "cell_type": "code",
   "execution_count": 35,
   "metadata": {
    "colab": {
     "base_uri": "https://localhost:8080/",
     "height": 141
    },
    "executionInfo": {
     "elapsed": 500,
     "status": "error",
     "timestamp": 1737123310491,
     "user": {
      "displayName": "Prem Pawar",
      "userId": "12256910497029262099"
     },
     "user_tz": -330
    },
    "id": "ln6tNPskivC7",
    "outputId": "a57626e6-b1fd-443f-92af-76aa2cba0ce7"
   },
   "outputs": [
    {
     "ename": "TypeError",
     "evalue": "complex() can't take second arg if first is a string",
     "output_type": "error",
     "traceback": [
      "\u001b[0;31m---------------------------------------------------------------------------\u001b[0m",
      "\u001b[0;31mTypeError\u001b[0m                                 Traceback (most recent call last)",
      "\u001b[0;32m<ipython-input-35-ed41b0790096>\u001b[0m in \u001b[0;36m<cell line: 0>\u001b[0;34m()\u001b[0m\n\u001b[0;32m----> 1\u001b[0;31m \u001b[0mcomplex\u001b[0m\u001b[0;34m(\u001b[0m\u001b[0;34m\"10\"\u001b[0m\u001b[0;34m,\u001b[0m\u001b[0;34m\"12\"\u001b[0m\u001b[0;34m)\u001b[0m\u001b[0;34m\u001b[0m\u001b[0;34m\u001b[0m\u001b[0m\n\u001b[0m",
      "\u001b[0;31mTypeError\u001b[0m: complex() can't take second arg if first is a string"
     ]
    }
   ],
   "source": [
    "complex(\"10\",\"12\") # complex() can't take second arg if first is a string"
   ]
  },
  {
   "cell_type": "code",
   "execution_count": 36,
   "metadata": {
    "colab": {
     "base_uri": "https://localhost:8080/",
     "height": 36
    },
    "executionInfo": {
     "elapsed": 557,
     "status": "ok",
     "timestamp": 1737123406665,
     "user": {
      "displayName": "Prem Pawar",
      "userId": "12256910497029262099"
     },
     "user_tz": -330
    },
    "id": "6aBkSz3imv8o",
    "outputId": "d6371f21-f87f-473a-b877-b5cd49e2edf1"
   },
   "outputs": [
    {
     "data": {
      "application/vnd.google.colaboratory.intrinsic+json": {
       "type": "string"
      },
      "text/plain": [
       "'10'"
      ]
     },
     "execution_count": 36,
     "metadata": {},
     "output_type": "execute_result"
    }
   ],
   "source": [
    "str(10)"
   ]
  },
  {
   "cell_type": "code",
   "execution_count": 40,
   "metadata": {
    "colab": {
     "base_uri": "https://localhost:8080/",
     "height": 141
    },
    "executionInfo": {
     "elapsed": 18,
     "status": "error",
     "timestamp": 1737123462373,
     "user": {
      "displayName": "Prem Pawar",
      "userId": "12256910497029262099"
     },
     "user_tz": -330
    },
    "id": "Cp4Q-wSumv5o",
    "outputId": "8bc4d5a0-d2e8-4036-c37b-a39f9f4a642d"
   },
   "outputs": [
    {
     "ename": "TypeError",
     "evalue": "str() argument 'encoding' must be str, not int",
     "output_type": "error",
     "traceback": [
      "\u001b[0;31m---------------------------------------------------------------------------\u001b[0m",
      "\u001b[0;31mTypeError\u001b[0m                                 Traceback (most recent call last)",
      "\u001b[0;32m<ipython-input-40-0b9a0a93414e>\u001b[0m in \u001b[0;36m<cell line: 0>\u001b[0;34m()\u001b[0m\n\u001b[0;32m----> 1\u001b[0;31m \u001b[0mstr\u001b[0m\u001b[0;34m(\u001b[0m\u001b[0;36m10\u001b[0m\u001b[0;34m,\u001b[0m\u001b[0;36m20\u001b[0m\u001b[0;34m)\u001b[0m\u001b[0;34m\u001b[0m\u001b[0;34m\u001b[0m\u001b[0m\n\u001b[0m",
      "\u001b[0;31mTypeError\u001b[0m: str() argument 'encoding' must be str, not int"
     ]
    }
   ],
   "source": [
    "str(10,20)"
   ]
  },
  {
   "cell_type": "code",
   "execution_count": 41,
   "metadata": {
    "colab": {
     "base_uri": "https://localhost:8080/",
     "height": 36
    },
    "executionInfo": {
     "elapsed": 426,
     "status": "ok",
     "timestamp": 1737123465012,
     "user": {
      "displayName": "Prem Pawar",
      "userId": "12256910497029262099"
     },
     "user_tz": -330
    },
    "id": "bVXd4pFwmv3G",
    "outputId": "c6ee4266-76bf-428b-b372-7be7fe391f00"
   },
   "outputs": [
    {
     "data": {
      "application/vnd.google.colaboratory.intrinsic+json": {
       "type": "string"
      },
      "text/plain": [
       "'1020'"
      ]
     },
     "execution_count": 41,
     "metadata": {},
     "output_type": "execute_result"
    }
   ],
   "source": [
    "str(1020)"
   ]
  },
  {
   "cell_type": "code",
   "execution_count": 43,
   "metadata": {
    "colab": {
     "base_uri": "https://localhost:8080/",
     "height": 36
    },
    "executionInfo": {
     "elapsed": 522,
     "status": "ok",
     "timestamp": 1737123488973,
     "user": {
      "displayName": "Prem Pawar",
      "userId": "12256910497029262099"
     },
     "user_tz": -330
    },
    "id": "fz4stUZCmv1g",
    "outputId": "b4a1b4eb-d021-4238-84b4-b3822f8b84e9"
   },
   "outputs": [
    {
     "data": {
      "application/vnd.google.colaboratory.intrinsic+json": {
       "type": "string"
      },
      "text/plain": [
       "'True'"
      ]
     },
     "execution_count": 43,
     "metadata": {},
     "output_type": "execute_result"
    }
   ],
   "source": [
    "str(True)"
   ]
  },
  {
   "cell_type": "code",
   "execution_count": 44,
   "metadata": {
    "colab": {
     "base_uri": "https://localhost:8080/",
     "height": 36
    },
    "executionInfo": {
     "elapsed": 16,
     "status": "ok",
     "timestamp": 1737123551670,
     "user": {
      "displayName": "Prem Pawar",
      "userId": "12256910497029262099"
     },
     "user_tz": -330
    },
    "id": "_tevUcC0mvze",
    "outputId": "883dd2c5-5146-4647-e105-9bccef9c01cb"
   },
   "outputs": [
    {
     "data": {
      "application/vnd.google.colaboratory.intrinsic+json": {
       "type": "string"
      },
      "text/plain": [
       "'(10+2j)'"
      ]
     },
     "execution_count": 44,
     "metadata": {},
     "output_type": "execute_result"
    }
   ],
   "source": [
    "str(10+2j)"
   ]
  },
  {
   "cell_type": "code",
   "execution_count": 45,
   "metadata": {
    "colab": {
     "base_uri": "https://localhost:8080/"
    },
    "executionInfo": {
     "elapsed": 10,
     "status": "ok",
     "timestamp": 1737123598320,
     "user": {
      "displayName": "Prem Pawar",
      "userId": "12256910497029262099"
     },
     "user_tz": -330
    },
    "id": "a6D0IPRHivA7",
    "outputId": "66bcbd25-2331-4192-b414-b784757e5a2d"
   },
   "outputs": [
    {
     "data": {
      "text/plain": [
       "True"
      ]
     },
     "execution_count": 45,
     "metadata": {},
     "output_type": "execute_result"
    }
   ],
   "source": [
    "bool(10)"
   ]
  },
  {
   "cell_type": "code",
   "execution_count": 46,
   "metadata": {
    "colab": {
     "base_uri": "https://localhost:8080/"
    },
    "executionInfo": {
     "elapsed": 9,
     "status": "ok",
     "timestamp": 1737123678524,
     "user": {
      "displayName": "Prem Pawar",
      "userId": "12256910497029262099"
     },
     "user_tz": -330
    },
    "id": "AwPty4tuiu_F",
    "outputId": "ec842b1e-c632-4c3e-8ca2-fa3197b07225"
   },
   "outputs": [
    {
     "data": {
      "text/plain": [
       "True"
      ]
     },
     "execution_count": 46,
     "metadata": {},
     "output_type": "execute_result"
    }
   ],
   "source": [
    "bool(-12)"
   ]
  },
  {
   "cell_type": "code",
   "execution_count": 47,
   "metadata": {
    "colab": {
     "base_uri": "https://localhost:8080/"
    },
    "executionInfo": {
     "elapsed": 9,
     "status": "ok",
     "timestamp": 1737123686606,
     "user": {
      "displayName": "Prem Pawar",
      "userId": "12256910497029262099"
     },
     "user_tz": -330
    },
    "id": "KIg64XAqiu9j",
    "outputId": "5c0a5c4c-035e-4d86-c88a-ac3f08337221"
   },
   "outputs": [
    {
     "data": {
      "text/plain": [
       "False"
      ]
     },
     "execution_count": 47,
     "metadata": {},
     "output_type": "execute_result"
    }
   ],
   "source": [
    "bool(0)"
   ]
  },
  {
   "cell_type": "code",
   "execution_count": 48,
   "metadata": {
    "colab": {
     "base_uri": "https://localhost:8080/"
    },
    "executionInfo": {
     "elapsed": 532,
     "status": "ok",
     "timestamp": 1737123781532,
     "user": {
      "displayName": "Prem Pawar",
      "userId": "12256910497029262099"
     },
     "user_tz": -330
    },
    "id": "1QG5sBbSiu7y",
    "outputId": "893edd4e-c3c1-48df-a0cd-241e3d581b61"
   },
   "outputs": [
    {
     "data": {
      "text/plain": [
       "False"
      ]
     },
     "execution_count": 48,
     "metadata": {},
     "output_type": "execute_result"
    }
   ],
   "source": [
    "bool()"
   ]
  },
  {
   "cell_type": "code",
   "execution_count": 49,
   "metadata": {
    "colab": {
     "base_uri": "https://localhost:8080/"
    },
    "executionInfo": {
     "elapsed": 528,
     "status": "ok",
     "timestamp": 1737123790441,
     "user": {
      "displayName": "Prem Pawar",
      "userId": "12256910497029262099"
     },
     "user_tz": -330
    },
    "id": "cnHgn1ahiu6K",
    "outputId": "018f37b3-a557-4a64-a6ba-c3346c98840b"
   },
   "outputs": [
    {
     "data": {
      "text/plain": [
       "False"
      ]
     },
     "execution_count": 49,
     "metadata": {},
     "output_type": "execute_result"
    }
   ],
   "source": [
    "bool( )"
   ]
  },
  {
   "cell_type": "code",
   "execution_count": 52,
   "metadata": {
    "colab": {
     "base_uri": "https://localhost:8080/"
    },
    "executionInfo": {
     "elapsed": 882,
     "status": "ok",
     "timestamp": 1737123819007,
     "user": {
      "displayName": "Prem Pawar",
      "userId": "12256910497029262099"
     },
     "user_tz": -330
    },
    "id": "lQoCK8Bhiu4Q",
    "outputId": "a9b40229-3c09-48b8-9dde-6d153bd4f1b8"
   },
   "outputs": [
    {
     "data": {
      "text/plain": [
       "True"
      ]
     },
     "execution_count": 52,
     "metadata": {},
     "output_type": "execute_result"
    }
   ],
   "source": [
    "bool(\"aa\")"
   ]
  },
  {
   "cell_type": "code",
   "execution_count": 53,
   "metadata": {
    "colab": {
     "base_uri": "https://localhost:8080/"
    },
    "executionInfo": {
     "elapsed": 12,
     "status": "ok",
     "timestamp": 1737123838162,
     "user": {
      "displayName": "Prem Pawar",
      "userId": "12256910497029262099"
     },
     "user_tz": -330
    },
    "id": "P3bVvQHTgzum",
    "outputId": "4edf1882-65b7-46fd-cdb3-3b29a061ba8d"
   },
   "outputs": [
    {
     "data": {
      "text/plain": [
       "True"
      ]
     },
     "execution_count": 53,
     "metadata": {},
     "output_type": "execute_result"
    }
   ],
   "source": [
    "bool(1+3j)"
   ]
  },
  {
   "cell_type": "code",
   "execution_count": 55,
   "metadata": {
    "colab": {
     "base_uri": "https://localhost:8080/"
    },
    "executionInfo": {
     "elapsed": 465,
     "status": "ok",
     "timestamp": 1737123856386,
     "user": {
      "displayName": "Prem Pawar",
      "userId": "12256910497029262099"
     },
     "user_tz": -330
    },
    "id": "pC9_0Mv2pjSR",
    "outputId": "67d6ec52-d1ab-4a76-97ec-9eccafd5a7a7"
   },
   "outputs": [
    {
     "data": {
      "text/plain": [
       "True"
      ]
     },
     "execution_count": 55,
     "metadata": {},
     "output_type": "execute_result"
    }
   ],
   "source": [
    "bool(2.3)"
   ]
  },
  {
   "cell_type": "code",
   "execution_count": 57,
   "metadata": {
    "colab": {
     "base_uri": "https://localhost:8080/",
     "height": 141
    },
    "executionInfo": {
     "elapsed": 467,
     "status": "error",
     "timestamp": 1737123973330,
     "user": {
      "displayName": "Prem Pawar",
      "userId": "12256910497029262099"
     },
     "user_tz": -330
    },
    "id": "E2q_YhLhpmmp",
    "outputId": "5463c941-b3dc-47d4-dd2d-f73b92803fe5"
   },
   "outputs": [
    {
     "ename": "TypeError",
     "evalue": "bool expected at most 1 argument, got 2",
     "output_type": "error",
     "traceback": [
      "\u001b[0;31m---------------------------------------------------------------------------\u001b[0m",
      "\u001b[0;31mTypeError\u001b[0m                                 Traceback (most recent call last)",
      "\u001b[0;32m<ipython-input-57-ce79306ec379>\u001b[0m in \u001b[0;36m<cell line: 0>\u001b[0;34m()\u001b[0m\n\u001b[0;32m----> 1\u001b[0;31m \u001b[0mbool\u001b[0m\u001b[0;34m(\u001b[0m\u001b[0;36m1\u001b[0m\u001b[0;34m,\u001b[0m\u001b[0;36m1\u001b[0m\u001b[0;34m)\u001b[0m \u001b[0;31m#bool expected at most 1 argument, got 2\u001b[0m\u001b[0;34m\u001b[0m\u001b[0;34m\u001b[0m\u001b[0m\n\u001b[0m",
      "\u001b[0;31mTypeError\u001b[0m: bool expected at most 1 argument, got 2"
     ]
    }
   ],
   "source": [
    "bool(1,1) #bool expected at most 1 argument, got 2"
   ]
  },
  {
   "cell_type": "code",
   "execution_count": null,
   "metadata": {
    "id": "NMgM_8TGqA1G"
   },
   "outputs": [],
   "source": []
  },
  {
   "cell_type": "code",
   "execution_count": null,
   "metadata": {
    "id": "CrYJbCpVqGNk"
   },
   "outputs": [],
   "source": []
  },
  {
   "cell_type": "code",
   "execution_count": null,
   "metadata": {
    "id": "rSkaJT8GqGL4"
   },
   "outputs": [],
   "source": []
  },
  {
   "cell_type": "code",
   "execution_count": null,
   "metadata": {
    "id": "lFv0_ePtqGKG"
   },
   "outputs": [],
   "source": []
  },
  {
   "cell_type": "code",
   "execution_count": null,
   "metadata": {
    "id": "ygH8f92FqGIS"
   },
   "outputs": [],
   "source": []
  },
  {
   "cell_type": "code",
   "execution_count": null,
   "metadata": {
    "id": "XPit5EJjqGFs"
   },
   "outputs": [],
   "source": []
  },
  {
   "cell_type": "code",
   "execution_count": null,
   "metadata": {
    "id": "C5Bvo23OqGC7"
   },
   "outputs": [],
   "source": []
  },
  {
   "cell_type": "code",
   "execution_count": null,
   "metadata": {
    "id": "WKNJZ5jbqGA8"
   },
   "outputs": [],
   "source": []
  },
  {
   "cell_type": "code",
   "execution_count": null,
   "metadata": {
    "id": "x_p4o7erqF-w"
   },
   "outputs": [],
   "source": []
  },
  {
   "cell_type": "code",
   "execution_count": null,
   "metadata": {
    "id": "GRtTjuYGqF85"
   },
   "outputs": [],
   "source": []
  },
  {
   "cell_type": "code",
   "execution_count": null,
   "metadata": {
    "id": "2WXbahB6qF6y"
   },
   "outputs": [],
   "source": []
  }
 ],
 "metadata": {
  "colab": {
   "authorship_tag": "ABX9TyNQ+yVykShOZWnsIDzB/9Bi",
   "provenance": [
    {
     "file_id": "1sBsLCVyNjOB7FMNt5LACq7NDVd9827Ol",
     "timestamp": 1737125686475
    }
   ]
  },
  "kernelspec": {
   "display_name": "Python 3",
   "name": "python3"
  },
  "language_info": {
   "name": "python"
  }
 },
 "nbformat": 4,
 "nbformat_minor": 0
}
